{
 "cells": [
  {
   "cell_type": "code",
   "execution_count": 1,
   "id": "6ad70ef5-d8b4-4f22-ae5e-cf6a85926eb4",
   "metadata": {
    "tags": []
   },
   "outputs": [],
   "source": [
    "import pandas as pd\n",
    "\n",
    "PD = pd.read_excel(\"Sample Input.xlsx\", sheet_name = \"Transition Matrix\")\n",
    "LGD = pd.read_excel(\"Sample Input.xlsx\", sheet_name = \"LGD\")\n",
    "Rho = pd.read_excel(\"Sample Input.xlsx\", sheet_name = \"Correlation Matrix\")\n",
    "Macro_Param = pd.read_excel(\"Sample Input.xlsx\", sheet_name = \"Macro Parameters\")\n",
    "Loan = pd.read_excel(\"Sample Input.xlsx\", sheet_name = \"Loan Portfolio\")"
   ]
  },
  {
   "cell_type": "code",
   "execution_count": 2,
   "id": "a0478300-4dbd-4d39-b854-ed964ee661d2",
   "metadata": {
    "tags": []
   },
   "outputs": [],
   "source": [
    "import sys\n",
    "sys.path.append(\"/path/to/CERM/package\") #path of the package. e.g., /Users/sth/Desktop/CERM"
   ]
  },
  {
   "cell_type": "code",
   "execution_count": 3,
   "id": "5f67254a-26da-4b76-8ae6-8c279ec31d4c",
   "metadata": {
    "tags": []
   },
   "outputs": [],
   "source": [
    "from CERM.CERM import CERM_Model"
   ]
  },
  {
   "cell_type": "code",
   "execution_count": 4,
   "id": "44b88f04-a924-472d-ac0e-0907bcea519f",
   "metadata": {
    "tags": []
   },
   "outputs": [],
   "source": [
    "model = CERM_Model(PD, LGD, Rho, Macro_Param, Loan)\n",
    "model.load"
   ]
  },
  {
   "cell_type": "code",
   "execution_count": 5,
   "id": "af609c8c-ffb2-4968-bfd4-0ca5e68b8eb7",
   "metadata": {
    "tags": []
   },
   "outputs": [],
   "source": [
    "model.compute_conditional(n_sim = 2**12)"
   ]
  },
  {
   "cell_type": "code",
   "execution_count": 6,
   "id": "edc2ec65-b6c7-4fb3-8518-01824625440c",
   "metadata": {
    "tags": []
   },
   "outputs": [
    {
     "name": "stdout",
     "output_type": "stream",
     "text": [
      "Sample Loss Simulation: 0.483M\n",
      "Sample Expected Loss: 0.467M\n",
      "Sample RWA: 1.969M\n"
     ]
    }
   ],
   "source": [
    "print(f\"Sample Loss Simulation: {round(model.loss_sim[0]*10**-6,3)}M\")\n",
    "print(f\"Sample Expected Loss: {round(model.EL_t[0]*10**-6,3)}M\")\n",
    "print(f\"Sample RWA: {round(model.RWA[0]*10**-6,3)}M\")"
   ]
  }
 ],
 "metadata": {
  "kernelspec": {
   "display_name": "Python 3 (ipykernel)",
   "language": "python",
   "name": "python3"
  },
  "language_info": {
   "codemirror_mode": {
    "name": "ipython",
    "version": 3
   },
   "file_extension": ".py",
   "mimetype": "text/x-python",
   "name": "python",
   "nbconvert_exporter": "python",
   "pygments_lexer": "ipython3",
   "version": "3.11.5"
  }
 },
 "nbformat": 4,
 "nbformat_minor": 5
}
